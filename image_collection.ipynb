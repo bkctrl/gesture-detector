{
 "cells": [
  {
   "cell_type": "markdown",
   "metadata": {},
   "source": [
    "1. Import Dependencies"
   ]
  },
  {
   "cell_type": "code",
   "execution_count": 4,
   "metadata": {},
   "outputs": [],
   "source": [
    "import cv2\n",
    "import uuid\n",
    "import os\n",
    "import time"
   ]
  },
  {
   "cell_type": "markdown",
   "metadata": {},
   "source": [
    "2. Set Images to Collect"
   ]
  },
  {
   "cell_type": "code",
   "execution_count": 6,
   "metadata": {},
   "outputs": [],
   "source": [
    "labels = [\"ThumbsUp\", \"ThumbsDown\", \"Up\", \"Down\", \"Left\", \"Right\"]\n",
    "number_imgs = 10 # increase the number of images to improve performance!"
   ]
  },
  {
   "cell_type": "markdown",
   "metadata": {},
   "source": [
    "3. Folder Setup"
   ]
  },
  {
   "cell_type": "code",
   "execution_count": 7,
   "metadata": {},
   "outputs": [],
   "source": [
    "# path to folder with the images to be detected\n",
    "IMAGES_FILE_PATH = os.path.join('Tensorflow', 'workspace', 'images', 'collected_images')\n",
    "# create directory depending on linux/windows\n",
    "if not os.path.exists(IMAGES_FILE_PATH):\n",
    "  if os.name == 'posix': # linux\n",
    "    %mkdir -p {IMAGES_FILE_PATH}\n",
    "  if os.name == 'nt': # windows\n",
    "    %mkdir {IMAGES_FILE_PATH}\n",
    "for label in labels:\n",
    "  path = os.path.join(IMAGES_FILE_PATH, label)\n",
    "  if not os.path.exists(path):\n",
    "    !mkdir {path}"
   ]
  },
  {
   "cell_type": "markdown",
   "metadata": {},
   "source": [
    "4. Capture Images"
   ]
  },
  {
   "cell_type": "code",
   "execution_count": 12,
   "metadata": {},
   "outputs": [
    {
     "name": "stdout",
     "output_type": "stream",
     "text": [
      "Collecting images for thumbs_up\n"
     ]
    },
    {
     "ename": "KeyboardInterrupt",
     "evalue": "",
     "output_type": "error",
     "traceback": [
      "\u001b[0;31m---------------------------------------------------------------------------\u001b[0m",
      "\u001b[0;31mKeyboardInterrupt\u001b[0m                         Traceback (most recent call last)",
      "Cell \u001b[0;32mIn[12], line 5\u001b[0m\n\u001b[1;32m      3\u001b[0m webcam \u001b[38;5;241m=\u001b[39m cv2\u001b[38;5;241m.\u001b[39mVideoCapture(\u001b[38;5;241m0\u001b[39m)\n\u001b[1;32m      4\u001b[0m \u001b[38;5;28mprint\u001b[39m(\u001b[38;5;124m'\u001b[39m\u001b[38;5;124mCollecting images for \u001b[39m\u001b[38;5;132;01m{}\u001b[39;00m\u001b[38;5;124m'\u001b[39m\u001b[38;5;241m.\u001b[39mformat(label))\n\u001b[0;32m----> 5\u001b[0m \u001b[43mtime\u001b[49m\u001b[38;5;241;43m.\u001b[39;49m\u001b[43msleep\u001b[49m\u001b[43m(\u001b[49m\u001b[38;5;241;43m5\u001b[39;49m\u001b[43m)\u001b[49m\n\u001b[1;32m      6\u001b[0m \u001b[38;5;28;01mfor\u001b[39;00m image \u001b[38;5;129;01min\u001b[39;00m \u001b[38;5;28mrange\u001b[39m(number_imgs):\n\u001b[1;32m      7\u001b[0m   \u001b[38;5;28mprint\u001b[39m(\u001b[38;5;124m'\u001b[39m\u001b[38;5;124mCollecting image \u001b[39m\u001b[38;5;132;01m{}\u001b[39;00m\u001b[38;5;124m'\u001b[39m\u001b[38;5;241m.\u001b[39mformat(image))\n",
      "\u001b[0;31mKeyboardInterrupt\u001b[0m: "
     ]
    }
   ],
   "source": [
    "for label in labels:\n",
    "  # connect to device webcam\n",
    "  webcam = cv2.VideoCapture(0)\n",
    "  print('Collecting images for {}'.format(label))\n",
    "  time.sleep(5)\n",
    "  for image in range(number_imgs):\n",
    "    print('Collecting image {}'.format(image))\n",
    "    # capture image and save in specified path\n",
    "    ret, frame = webcam.read()\n",
    "    imgname = os.path.join(IMAGES_FILE_PATH,label,label+'.'+'{}.jpg'.format(str(uuid.uuid1())))\n",
    "    # write down to screen and show\n",
    "    cv2.imwrite(imgname, frame) \n",
    "    cv2.imshow('frame', frame)\n",
    "    time.sleep(2)\n",
    "    if cv2.waitKey(1) & 0xFF == ord('q'):\n",
    "      break\n",
    "webcam.release()\n",
    "cv2.destroyAllWindows()"
   ]
  },
  {
   "cell_type": "markdown",
   "metadata": {},
   "source": [
    "5. Label Images"
   ]
  },
  {
   "cell_type": "code",
   "execution_count": 9,
   "metadata": {},
   "outputs": [
    {
     "name": "stdout",
     "output_type": "stream",
     "text": [
      "pyrcc5 -o libs/resources.py resources.qrc\n",
      "2024-03-10 15:15:14.049 python[13036:22078630] TSM AdjustCapsLockLEDForKeyTransitionHandling - _ISSetPhysicalKeyboardCapsLockLED Inhibit\n",
      "Image:/Users/bks/Desktop/collected_images/ThumbsUp/Photo on 2024-03-10 at 6.15 AM #2.jpg -> Annotation:/Users/bks/Desktop/collected_images/ThumbsUp/Photo on 2024-03-10 at 6.15 AM #2.xml\n",
      "Image:/Users/bks/Desktop/collected_images/ThumbsUp/Photo on 2024-03-10 at 6.15 AM.jpg -> Annotation:/Users/bks/Desktop/collected_images/ThumbsUp/Photo on 2024-03-10 at 6.15 AM.xml\n",
      "Image:/Users/bks/Desktop/collected_images/ThumbsUp/Photo on 2024-03-10 at 6.16 AM #2.jpg -> Annotation:/Users/bks/Desktop/collected_images/ThumbsUp/Photo on 2024-03-10 at 6.16 AM #2.xml\n",
      "Image:/Users/bks/Desktop/collected_images/ThumbsUp/Photo on 2024-03-10 at 6.16 AM #3.jpg -> Annotation:/Users/bks/Desktop/collected_images/ThumbsUp/Photo on 2024-03-10 at 6.16 AM #3.xml\n",
      "Image:/Users/bks/Desktop/collected_images/ThumbsDown/Photo on 2024-03-10 at 6.21 AM #2.jpg -> Annotation:/Users/bks/Desktop/collected_images/ThumbsDown/Photo on 2024-03-10 at 6.21 AM #2.xml\n",
      "Image:/Users/bks/Desktop/collected_images/ThumbsDown/Photo on 2024-03-10 at 6.21 AM #3.jpg -> Annotation:/Users/bks/Desktop/collected_images/ThumbsDown/Photo on 2024-03-10 at 6.21 AM #3.xml\n",
      "Image:/Users/bks/Desktop/collected_images/ThumbsDown/Photo on 2024-03-10 at 6.21 AM #4.jpg -> Annotation:/Users/bks/Desktop/collected_images/ThumbsDown/Photo on 2024-03-10 at 6.21 AM #4.xml\n",
      "Image:/Users/bks/Desktop/collected_images/ThumbsDown/Photo on 2024-03-10 at 6.21 AM #5.jpg -> Annotation:/Users/bks/Desktop/collected_images/ThumbsDown/Photo on 2024-03-10 at 6.21 AM #5.xml\n",
      "Image:/Users/bks/Desktop/collected_images/ThumbsDown/Photo on 2024-03-10 at 6.21 AM.jpg -> Annotation:/Users/bks/Desktop/collected_images/ThumbsDown/Photo on 2024-03-10 at 6.21 AM.xml\n",
      "Image:/Users/bks/Desktop/collected_images/ThumbsDown/Photo on 2024-03-10 at 6.22 AM #2.jpg -> Annotation:/Users/bks/Desktop/collected_images/ThumbsDown/Photo on 2024-03-10 at 6.22 AM #2.xml\n",
      "Image:/Users/bks/Desktop/collected_images/ThumbsDown/Photo on 2024-03-10 at 6.22 AM #3.jpg -> Annotation:/Users/bks/Desktop/collected_images/ThumbsDown/Photo on 2024-03-10 at 6.22 AM #3.xml\n",
      "Image:/Users/bks/Desktop/collected_images/ThumbsDown/Photo on 2024-03-10 at 6.22 AM #4.jpg -> Annotation:/Users/bks/Desktop/collected_images/ThumbsDown/Photo on 2024-03-10 at 6.22 AM #4.xml\n",
      "Image:/Users/bks/Desktop/collected_images/ThumbsDown/Photo on 2024-03-10 at 6.22 AM #5.jpg -> Annotation:/Users/bks/Desktop/collected_images/ThumbsDown/Photo on 2024-03-10 at 6.22 AM #5.xml\n",
      "Image:/Users/bks/Desktop/collected_images/ThumbsDown/Photo on 2024-03-10 at 6.22 AM.jpg -> Annotation:/Users/bks/Desktop/collected_images/ThumbsDown/Photo on 2024-03-10 at 6.22 AM.xml\n",
      "Image:/Users/bks/Desktop/collected_images/ThumbsUp/Photo on 2024-03-10 at 6.16 AM #4.jpg -> Annotation:/Users/bks/Desktop/collected_images/ThumbsUp/Photo on 2024-03-10 at 6.16 AM #4.xml\n",
      "Image:/Users/bks/Desktop/collected_images/ThumbsUp/Photo on 2024-03-10 at 6.16 AM #5.jpg -> Annotation:/Users/bks/Desktop/collected_images/ThumbsUp/Photo on 2024-03-10 at 6.16 AM #5.xml\n",
      "Image:/Users/bks/Desktop/collected_images/ThumbsUp/Photo on 2024-03-10 at 6.16 AM #6.jpg -> Annotation:/Users/bks/Desktop/collected_images/ThumbsUp/Photo on 2024-03-10 at 6.16 AM #6.xml\n",
      "Image:/Users/bks/Desktop/collected_images/ThumbsUp/Photo on 2024-03-10 at 6.16 AM #7.jpg -> Annotation:/Users/bks/Desktop/collected_images/ThumbsUp/Photo on 2024-03-10 at 6.16 AM #7.xml\n",
      "Image:/Users/bks/Desktop/collected_images/ThumbsUp/Photo on 2024-03-10 at 6.16 AM.jpg -> Annotation:/Users/bks/Desktop/collected_images/ThumbsUp/Photo on 2024-03-10 at 6.16 AM.xml\n",
      "Image:/Users/bks/Desktop/collected_images/ThumbsUp/Photo on 2024-03-10 at 6.17 AM.jpg -> Annotation:/Users/bks/Desktop/collected_images/ThumbsUp/Photo on 2024-03-10 at 6.17 AM.xml\n"
     ]
    }
   ],
   "source": [
    "import os\n",
    "\n",
    "LABEL_PATH = os.path.join('Tensorflow', 'labelimg')\n",
    "# utilize LabelImg, a popular image annotation tool created by Tzutalin\n",
    "if not os.path.exists(LABEL_PATH):\n",
    "    !mkdir {LABEL_PATH}\n",
    "    !git clone https://github.com/tzutalin/labelImg {LABEL_PATH}\n",
    "if os.name == 'posix': # linux\n",
    "    !cd {LABEL_PATH} && make qt5py3\n",
    "if os.name =='nt': # windows\n",
    "    !cd {LABEL_PATH} && pyrcc5 -o libs/resources.py resources.qrc\n",
    "!cd {LABEL_PATH} && python labelImg.py\n",
    "    "
   ]
  },
  {
   "cell_type": "markdown",
   "metadata": {},
   "source": [
    "6. Train and Test\n",
    "\n"
   ]
  },
  {
   "cell_type": "code",
   "execution_count": 30,
   "metadata": {},
   "outputs": [],
   "source": [
    "\"\"\"\n",
    "Use LabelImg and identify portions to be detected in each image. Save the portions in XML format. Manually copy a portion of the images captured above and their respective XML files  to the \"train\" folder, and others to the \"test\" folder. This trains a portion of the images and tests the model's accuracy by comparing the results.\n",
    "\"\"\"\n",
    "# Generate \"train\", \"test\", and \"archive\" directories\n",
    "TRAIN_PATH = os.path.join('Tensorflow', 'workspace', 'images', 'train')\n",
    "TEST_PATH = os.path.join('Tensorflow', 'workspace', 'images', 'test')\n",
    "ARCHIVE_PATH = os.path.join('Tensorflow', 'workspace', 'images', 'archive.tar.gz')\n",
    "if not os.path.exists(TRAIN_PATH):\n",
    "  if os.name == 'posix': # linux\n",
    "    !mkdir -p {TRAIN_PATH}\n",
    "  if os.name == 'nt': # windows\n",
    "    !mkdir {TRAIN_PATH}\n",
    "if not os.path.exists(TEST_PATH):\n",
    "  if os.name == 'posix': # linux\n",
    "    !mkdir -p {TEST_PATH}\n",
    "  if os.name == 'nt': # windows\n",
    "    !mkdir {TEST_PATH}\n",
    "if not os.path.exists(ARCHIVE_PATH):\n",
    "  if os.name == 'posix': # linux\n",
    "    !mkdir -p {ARCHIVE_PATH}\n",
    "  if os.name == 'nt': # windows\n",
    "    !mkdir {ARCHIVE_PATH}\n"
   ]
  }
 ],
 "metadata": {
  "kernelspec": {
   "display_name": "obj-detector",
   "language": "python",
   "name": "python3"
  },
  "language_info": {
   "codemirror_mode": {
    "name": "ipython",
    "version": 3
   },
   "file_extension": ".py",
   "mimetype": "text/x-python",
   "name": "python",
   "nbconvert_exporter": "python",
   "pygments_lexer": "ipython3",
   "version": "3.8.8"
  }
 },
 "nbformat": 4,
 "nbformat_minor": 2
}
